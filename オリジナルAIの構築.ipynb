{
 "cells": [
  {
   "cell_type": "code",
   "execution_count": 1,
   "id": "8f4aeb7e",
   "metadata": {},
   "outputs": [],
   "source": [
    "import numpy as np\n",
    "import matplotlib.pyplot as plt\n",
    "import pandas as pd\n",
    "\n",
    "from PIL import Image\n",
    "\n",
    "from tensorflow import keras\n",
    "from tensorflow.keras.layers import Dense,Activation,Dropout\n",
    "from tensorflow.keras import regularizers\n",
    "\n",
    "from sklearn.model_selection import train_test_split\n",
    "\n",
    "%matplotlib inline\n",
    "pd.options.display.max_columns=None"
   ]
  },
  {
   "cell_type": "code",
   "execution_count": 2,
   "id": "88ca620e",
   "metadata": {},
   "outputs": [
    {
     "data": {
      "text/html": [
       "<div>\n",
       "<style scoped>\n",
       "    .dataframe tbody tr th:only-of-type {\n",
       "        vertical-align: middle;\n",
       "    }\n",
       "\n",
       "    .dataframe tbody tr th {\n",
       "        vertical-align: top;\n",
       "    }\n",
       "\n",
       "    .dataframe thead th {\n",
       "        text-align: right;\n",
       "    }\n",
       "</style>\n",
       "<table border=\"1\" class=\"dataframe\">\n",
       "  <thead>\n",
       "    <tr style=\"text-align: right;\">\n",
       "      <th></th>\n",
       "      <th>File name</th>\n",
       "      <th>DC</th>\n",
       "    </tr>\n",
       "  </thead>\n",
       "  <tbody>\n",
       "    <tr>\n",
       "      <th>0</th>\n",
       "      <td>cat-001</td>\n",
       "      <td>0</td>\n",
       "    </tr>\n",
       "    <tr>\n",
       "      <th>1</th>\n",
       "      <td>cat-002</td>\n",
       "      <td>0</td>\n",
       "    </tr>\n",
       "    <tr>\n",
       "      <th>2</th>\n",
       "      <td>cat-003</td>\n",
       "      <td>0</td>\n",
       "    </tr>\n",
       "    <tr>\n",
       "      <th>3</th>\n",
       "      <td>cat-004</td>\n",
       "      <td>0</td>\n",
       "    </tr>\n",
       "    <tr>\n",
       "      <th>4</th>\n",
       "      <td>cat-005</td>\n",
       "      <td>0</td>\n",
       "    </tr>\n",
       "  </tbody>\n",
       "</table>\n",
       "</div>"
      ],
      "text/plain": [
       "  File name  DC\n",
       "0   cat-001   0\n",
       "1   cat-002   0\n",
       "2   cat-003   0\n",
       "3   cat-004   0\n",
       "4   cat-005   0"
      ]
     },
     "execution_count": 2,
     "metadata": {},
     "output_type": "execute_result"
    }
   ],
   "source": [
    "train_data=pd.read_csv(\"dc_photos/train/train_data.csv\")\n",
    "train_data.head()"
   ]
  },
  {
   "cell_type": "code",
   "execution_count": 3,
   "id": "f0f6b898",
   "metadata": {},
   "outputs": [
    {
     "data": {
      "text/html": [
       "<div>\n",
       "<style scoped>\n",
       "    .dataframe tbody tr th:only-of-type {\n",
       "        vertical-align: middle;\n",
       "    }\n",
       "\n",
       "    .dataframe tbody tr th {\n",
       "        vertical-align: top;\n",
       "    }\n",
       "\n",
       "    .dataframe thead th {\n",
       "        text-align: right;\n",
       "    }\n",
       "</style>\n",
       "<table border=\"1\" class=\"dataframe\">\n",
       "  <thead>\n",
       "    <tr style=\"text-align: right;\">\n",
       "      <th></th>\n",
       "      <th>File name</th>\n",
       "      <th>DC</th>\n",
       "    </tr>\n",
       "  </thead>\n",
       "  <tbody>\n",
       "    <tr>\n",
       "      <th>0</th>\n",
       "      <td>cat-151</td>\n",
       "      <td>0</td>\n",
       "    </tr>\n",
       "    <tr>\n",
       "      <th>1</th>\n",
       "      <td>cat-152</td>\n",
       "      <td>0</td>\n",
       "    </tr>\n",
       "    <tr>\n",
       "      <th>2</th>\n",
       "      <td>cat-153</td>\n",
       "      <td>0</td>\n",
       "    </tr>\n",
       "    <tr>\n",
       "      <th>3</th>\n",
       "      <td>cat-154</td>\n",
       "      <td>0</td>\n",
       "    </tr>\n",
       "    <tr>\n",
       "      <th>4</th>\n",
       "      <td>cat-155</td>\n",
       "      <td>0</td>\n",
       "    </tr>\n",
       "  </tbody>\n",
       "</table>\n",
       "</div>"
      ],
      "text/plain": [
       "  File name  DC\n",
       "0   cat-151   0\n",
       "1   cat-152   0\n",
       "2   cat-153   0\n",
       "3   cat-154   0\n",
       "4   cat-155   0"
      ]
     },
     "execution_count": 3,
     "metadata": {},
     "output_type": "execute_result"
    }
   ],
   "source": [
    "test_data=pd.read_csv(\"dc_photos/test/test_data.csv\")\n",
    "test_data.head()"
   ]
  },
  {
   "cell_type": "code",
   "execution_count": 4,
   "id": "bd8ae135",
   "metadata": {},
   "outputs": [
    {
     "data": {
      "text/plain": [
       "<matplotlib.image.AxesImage at 0x7f65b79d1d60>"
      ]
     },
     "execution_count": 4,
     "metadata": {},
     "output_type": "execute_result"
    },
    {
     "data": {
      "image/png": "[encoded data removed]",
      "text/plain": [
       "<Figure size 432x288 with 1 Axes>"
      ]
     },
     "metadata": {
      "needs_background": "light"
     },
     "output_type": "display_data"
    }
   ],
   "source": [
    "sample_img1=Image.open(\"dc_photos/train/cat-001.jpg\").convert(\"L\")\n",
    "plt.imshow(sample_img1,cmap=\"gray\")"
   ]
  },
  {
   "cell_type": "code",
   "execution_count": 5,
   "id": "50495133",
   "metadata": {},
   "outputs": [
    {
     "data": {
      "text/plain": [
       "<matplotlib.image.AxesImage at 0x7f6642e2fac0>"
      ]
     },
     "execution_count": 5,
     "metadata": {},
     "output_type": "execute_result"
    },
    {
     "data": {
      "image/png": "[encoded data removed]",
      "text/plain": [
       "<Figure size 432x288 with 1 Axes>"
      ]
     },
     "metadata": {
      "needs_background": "light"
     },
     "output_type": "display_data"
    }
   ],
   "source": [
    "sample_img2=Image.open(\"dc_photos/train/dog-001.jpg\").convert(\"L\")\n",
    "plt.imshow(sample_img2,cmap=\"gray\")"
   ]
  },
  {
   "cell_type": "code",
   "execution_count": 6,
   "id": "3952f093",
   "metadata": {},
   "outputs": [
    {
     "data": {
      "text/plain": [
       "(75, 75)"
      ]
     },
     "execution_count": 6,
     "metadata": {},
     "output_type": "execute_result"
    }
   ],
   "source": [
    "sample_img1_array=np.array(sample_img1)\n",
    "sample_img1_array.shape"
   ]
  },
  {
   "cell_type": "code",
   "execution_count": 7,
   "id": "7c236759",
   "metadata": {},
   "outputs": [],
   "source": [
    "train_len=len(train_data)\n",
    "\n",
    "X_train=np.empty((train_len*4,75,75,1),dtype=np.uint8)\n",
    "y_train=np.empty(train_len*4,dtype=np.uint8)\n",
    "\n",
    "for i in range(len(train_data)):\n",
    "    name=train_data.loc[i,\"File name\"]\n",
    "    train_img=Image.open(f\"dc_photos/train/{name}.jpg\").convert(\"L\")\n",
    "    train_img=np.array(train_img)\n",
    "    train_img_f=train_img.reshape(75,75,1)\n",
    "    X_train[i]=train_img_f\n",
    "    y_train[i]=train_data.loc[i,\"DC\"]\n",
    "    \n",
    "    train_img_lr=np.fliplr(train_img)\n",
    "    train_img_lr_f=train_img_lr.reshape(75,75,1)\n",
    "    X_train[i+train_len]=train_img_lr_f\n",
    "    y_train[i+train_len]=train_data.loc[i,\"DC\"]\n",
    "    \n",
    "    train_img_ud=np.flipud(train_img_lr)\n",
    "    train_img_ud_f=train_img_ud.reshape(75,75,1)\n",
    "    X_train[i+train_len*2]=train_img_ud_f\n",
    "    y_train[i+train_len*2]=train_data.loc[i,\"DC\"]\n",
    "    \n",
    "    train_img_180=np.rot90(train_img_lr,2)\n",
    "    train_img_180_f=train_img_180.reshape(75,75,1)\n",
    "    X_train[i+train_len*3]=train_img_180_f\n",
    "    y_train[i+train_len*3]=train_data.loc[i,\"DC\"]"
   ]
  },
  {
   "cell_type": "code",
   "execution_count": 8,
   "id": "594f60f3",
   "metadata": {},
   "outputs": [],
   "source": [
    "test_len=len(test_data)\n",
    "X_test=np.empty((test_len,75,75,1),dtype=np.uint8)\n",
    "y_test=np.empty(test_len,dtype=np.uint8)\n",
    "\n",
    "for i in range(test_len):\n",
    "    name=test_data.loc[i,\"File name\"]\n",
    "    test_img=Image.open(f\"dc_photos/test/{name}.jpg\").convert(\"L\")\n",
    "    test_img=np.array(test_img)\n",
    "    test_img_f=test_img.reshape(75,75,1)\n",
    "    X_test[i]=test_img_f\n",
    "    y_test[i]=test_data.loc[i,\"DC\"]"
   ]
  },
  {
   "cell_type": "code",
   "execution_count": 9,
   "id": "cc189ba3",
   "metadata": {},
   "outputs": [],
   "source": [
    "X_train, X_valid, y_train, y_valid = train_test_split(X_train, y_train, test_size=0.3, random_state=0)"
   ]
  },
  {
   "cell_type": "code",
   "execution_count": 10,
   "id": "e78d3368",
   "metadata": {},
   "outputs": [
    {
     "name": "stdout",
     "output_type": "stream",
     "text": [
      "y_train= (840,) , X_train= (840, 75, 75, 1)\n",
      "y_valid= (360,) , X_valid= (360, 75, 75, 1)\n",
      "y_test= (100,) , X_test= (100, 75, 75, 1)\n"
     ]
    }
   ],
   "source": [
    "print(\"y_train=\", y_train.shape, \", X_train=\", X_train.shape)\n",
    "print(\"y_valid=\", y_valid.shape, \", X_valid=\", X_valid.shape)\n",
    "print(\"y_test=\", y_test.shape, \", X_test=\", X_test.shape)"
   ]
  },
  {
   "cell_type": "code",
   "execution_count": 11,
   "id": "382f6462",
   "metadata": {},
   "outputs": [],
   "source": [
    "from tensorflow.keras.layers import Conv2D\n",
    "from tensorflow.keras.layers import MaxPooling2D\n",
    "from tensorflow.keras.layers import Flatten"
   ]
  },
  {
   "cell_type": "code",
   "execution_count": 12,
   "id": "4053df9a",
   "metadata": {},
   "outputs": [],
   "source": [
    "model=keras.Sequential()\n",
    "\n",
    "model.add(Conv2D(16,kernel_size=3,padding=\"same\",strides=1,\n",
    "                input_shape=(75,75,1,),activation=\"relu\"))\n",
    "model.add(MaxPooling2D(pool_size=(2, 2)))\n",
    "model.add(Dropout(0.25))\n",
    "\n",
    "model.add(Conv2D(32,kernel_size=3,padding=\"same\",strides=1,activation=\"relu\"))\n",
    "model.add(MaxPooling2D(pool_size=(2, 2)))\n",
    "model.add(Dropout(0.25))\n",
    "\n",
    "model.add(Flatten())\n",
    "model.add(Dense(8,activation=\"relu\", kernel_regularizer=regularizers.l2(0.001)))\n",
    "model.add(Dropout(0.5))\n",
    "\n",
    "model.add(Dense(1,activation=\"sigmoid\"))\n",
    "\n",
    "model.compile(optimizer=\"rmsprop\",loss='binary_crossentropy', metrics=['accuracy'])"
   ]
  },
  {
   "cell_type": "code",
   "execution_count": 13,
   "id": "433b9f35",
   "metadata": {},
   "outputs": [
    {
     "name": "stdout",
     "output_type": "stream",
     "text": [
      "Model: \"sequential\"\n",
      "_________________________________________________________________\n",
      "Layer (type)                 Output Shape              Param #   \n",
      "=================================================================\n",
      "conv2d (Conv2D)              (None, 75, 75, 16)        160       \n",
      "_________________________________________________________________\n",
      "max_pooling2d (MaxPooling2D) (None, 37, 37, 16)        0         \n",
      "_________________________________________________________________\n",
      "dropout (Dropout)            (None, 37, 37, 16)        0         \n",
      "_________________________________________________________________\n",
      "conv2d_1 (Conv2D)            (None, 37, 37, 32)        4640      \n",
      "_________________________________________________________________\n",
      "max_pooling2d_1 (MaxPooling2 (None, 18, 18, 32)        0         \n",
      "_________________________________________________________________\n",
      "dropout_1 (Dropout)          (None, 18, 18, 32)        0         \n",
      "_________________________________________________________________\n",
      "flatten (Flatten)            (None, 10368)             0         \n",
      "_________________________________________________________________\n",
      "dense (Dense)                (None, 8)                 82952     \n",
      "_________________________________________________________________\n",
      "dropout_2 (Dropout)          (None, 8)                 0         \n",
      "_________________________________________________________________\n",
      "dense_1 (Dense)              (None, 1)                 9         \n",
      "=================================================================\n",
      "Total params: 87,761\n",
      "Trainable params: 87,761\n",
      "Non-trainable params: 0\n",
      "_________________________________________________________________\n"
     ]
    }
   ],
   "source": [
    "model.summary()"
   ]
  },
  {
   "cell_type": "code",
   "execution_count": 14,
   "id": "1053fc22",
   "metadata": {
    "scrolled": true
   },
   "outputs": [
    {
     "name": "stdout",
     "output_type": "stream",
     "text": [
      "CPU times: user 3 µs, sys: 1e+03 ns, total: 4 µs\n",
      "Wall time: 7.15 µs\n",
      "Epoch 1/100\n",
      "27/27 [==============================] - 5s 175ms/step - loss: 19.1234 - accuracy: 0.4964 - val_loss: 0.7075 - val_accuracy: 0.5111\n",
      "Epoch 2/100\n",
      "27/27 [==============================] - 4s 165ms/step - loss: 0.7075 - accuracy: 0.4762 - val_loss: 0.7074 - val_accuracy: 0.5111\n",
      "Epoch 3/100\n",
      "27/27 [==============================] - 4s 164ms/step - loss: 0.7073 - accuracy: 0.4952 - val_loss: 0.7072 - val_accuracy: 0.4889\n",
      "Epoch 4/100\n",
      "27/27 [==============================] - 4s 164ms/step - loss: 0.7069 - accuracy: 0.5048 - val_loss: 0.7065 - val_accuracy: 0.4889\n",
      "Epoch 5/100\n",
      "27/27 [==============================] - 4s 165ms/step - loss: 0.7058 - accuracy: 0.5048 - val_loss: 0.7049 - val_accuracy: 0.4889\n",
      "Epoch 6/100\n",
      "27/27 [==============================] - 4s 165ms/step - loss: 0.7078 - accuracy: 0.5036 - val_loss: 0.7019 - val_accuracy: 0.4889\n",
      "Epoch 7/100\n",
      "27/27 [==============================] - 5s 170ms/step - loss: 0.7000 - accuracy: 0.5048 - val_loss: 0.6980 - val_accuracy: 0.4889\n",
      "Epoch 8/100\n",
      "27/27 [==============================] - 5s 168ms/step - loss: 0.6963 - accuracy: 0.5048 - val_loss: 0.6950 - val_accuracy: 0.4889\n",
      "Epoch 9/100\n",
      "27/27 [==============================] - 4s 165ms/step - loss: 2.7268 - accuracy: 0.5071 - val_loss: 0.6943 - val_accuracy: 0.4889\n",
      "Epoch 10/100\n",
      "27/27 [==============================] - 5s 168ms/step - loss: 2.0228 - accuracy: 0.5036 - val_loss: 0.6946 - val_accuracy: 0.4722\n",
      "Epoch 11/100\n",
      "27/27 [==============================] - 4s 164ms/step - loss: 0.6939 - accuracy: 0.5048 - val_loss: 0.6944 - val_accuracy: 0.4750\n",
      "Epoch 12/100\n",
      "27/27 [==============================] - 4s 163ms/step - loss: 0.7268 - accuracy: 0.5226 - val_loss: 0.6853 - val_accuracy: 0.5667\n",
      "Epoch 13/100\n",
      "27/27 [==============================] - 5s 168ms/step - loss: 0.6969 - accuracy: 0.5107 - val_loss: 0.6894 - val_accuracy: 0.5528\n",
      "Epoch 14/100\n",
      "27/27 [==============================] - 4s 163ms/step - loss: 0.6942 - accuracy: 0.5024 - val_loss: 0.6871 - val_accuracy: 0.5472\n",
      "Epoch 15/100\n",
      "27/27 [==============================] - 4s 165ms/step - loss: 0.6966 - accuracy: 0.5083 - val_loss: 0.6785 - val_accuracy: 0.5417\n",
      "Epoch 16/100\n",
      "27/27 [==============================] - 4s 163ms/step - loss: 0.7431 - accuracy: 0.5214 - val_loss: 0.6850 - val_accuracy: 0.5250\n",
      "Epoch 17/100\n",
      "27/27 [==============================] - 4s 166ms/step - loss: 0.7594 - accuracy: 0.5869 - val_loss: 0.6678 - val_accuracy: 0.5583\n",
      "Epoch 18/100\n",
      "27/27 [==============================] - 4s 164ms/step - loss: 0.6942 - accuracy: 0.5893 - val_loss: 0.6750 - val_accuracy: 0.5472\n",
      "Epoch 19/100\n",
      "27/27 [==============================] - 5s 169ms/step - loss: 0.6134 - accuracy: 0.6262 - val_loss: 0.6340 - val_accuracy: 0.6167\n",
      "Epoch 20/100\n",
      "27/27 [==============================] - 4s 164ms/step - loss: 0.5774 - accuracy: 0.6452 - val_loss: 0.6572 - val_accuracy: 0.5750\n",
      "Epoch 21/100\n",
      "27/27 [==============================] - 4s 163ms/step - loss: 0.5949 - accuracy: 0.6631 - val_loss: 0.6300 - val_accuracy: 0.6389\n",
      "Epoch 22/100\n",
      "27/27 [==============================] - 4s 163ms/step - loss: 0.5655 - accuracy: 0.6881 - val_loss: 0.6055 - val_accuracy: 0.6444\n",
      "Epoch 23/100\n",
      "27/27 [==============================] - 4s 165ms/step - loss: 0.5441 - accuracy: 0.6952 - val_loss: 0.5547 - val_accuracy: 0.6917\n",
      "Epoch 24/100\n",
      "27/27 [==============================] - 4s 163ms/step - loss: 0.5374 - accuracy: 0.6964 - val_loss: 0.5754 - val_accuracy: 0.6722\n",
      "Epoch 25/100\n",
      "27/27 [==============================] - 4s 164ms/step - loss: 0.5317 - accuracy: 0.6893 - val_loss: 0.5658 - val_accuracy: 0.7000\n",
      "Epoch 26/100\n",
      "27/27 [==============================] - 4s 164ms/step - loss: 0.5079 - accuracy: 0.7167 - val_loss: 0.5748 - val_accuracy: 0.6861\n",
      "Epoch 27/100\n",
      "27/27 [==============================] - 4s 164ms/step - loss: 0.4915 - accuracy: 0.7202 - val_loss: 0.5608 - val_accuracy: 0.6944\n",
      "Epoch 28/100\n",
      "27/27 [==============================] - 4s 163ms/step - loss: 0.4859 - accuracy: 0.7238 - val_loss: 0.5558 - val_accuracy: 0.6972\n",
      "Epoch 29/100\n",
      "27/27 [==============================] - 4s 162ms/step - loss: 0.4881 - accuracy: 0.7155 - val_loss: 0.5699 - val_accuracy: 0.6722\n",
      "Epoch 30/100\n",
      "27/27 [==============================] - 4s 163ms/step - loss: 0.4898 - accuracy: 0.7095 - val_loss: 0.5950 - val_accuracy: 0.6972\n",
      "Epoch 31/100\n",
      "27/27 [==============================] - 4s 163ms/step - loss: 0.4827 - accuracy: 0.7321 - val_loss: 0.5431 - val_accuracy: 0.6917\n",
      "Epoch 32/100\n",
      "27/27 [==============================] - 4s 163ms/step - loss: 0.4788 - accuracy: 0.7262 - val_loss: 0.5575 - val_accuracy: 0.6917\n",
      "Epoch 33/100\n",
      "27/27 [==============================] - 4s 163ms/step - loss: 0.4669 - accuracy: 0.7429 - val_loss: 0.5412 - val_accuracy: 0.6972\n",
      "Epoch 34/100\n",
      "27/27 [==============================] - 4s 164ms/step - loss: 0.4574 - accuracy: 0.7393 - val_loss: 0.5539 - val_accuracy: 0.6944\n",
      "Epoch 35/100\n",
      "27/27 [==============================] - 4s 163ms/step - loss: 0.4613 - accuracy: 0.7488 - val_loss: 0.5525 - val_accuracy: 0.6861\n",
      "Epoch 36/100\n",
      "27/27 [==============================] - 4s 166ms/step - loss: 0.4497 - accuracy: 0.7476 - val_loss: 0.5786 - val_accuracy: 0.7000\n",
      "Epoch 37/100\n",
      "27/27 [==============================] - 4s 164ms/step - loss: 0.4303 - accuracy: 0.7643 - val_loss: 0.6048 - val_accuracy: 0.6944\n",
      "Epoch 38/100\n",
      "27/27 [==============================] - 4s 164ms/step - loss: 0.4492 - accuracy: 0.7619 - val_loss: 0.5498 - val_accuracy: 0.7000\n",
      "Epoch 39/100\n",
      "27/27 [==============================] - 4s 163ms/step - loss: 0.4198 - accuracy: 0.7714 - val_loss: 0.5610 - val_accuracy: 0.6889\n",
      "Epoch 40/100\n",
      "27/27 [==============================] - 4s 163ms/step - loss: 0.4311 - accuracy: 0.7607 - val_loss: 0.5836 - val_accuracy: 0.6917\n",
      "Epoch 41/100\n",
      "27/27 [==============================] - 4s 163ms/step - loss: 0.4484 - accuracy: 0.7560 - val_loss: 0.5833 - val_accuracy: 0.6861\n",
      "Epoch 42/100\n",
      "27/27 [==============================] - 4s 164ms/step - loss: 0.4354 - accuracy: 0.7464 - val_loss: 0.5848 - val_accuracy: 0.6861\n",
      "Epoch 43/100\n",
      "27/27 [==============================] - 4s 164ms/step - loss: 0.4304 - accuracy: 0.7750 - val_loss: 0.5747 - val_accuracy: 0.6972\n",
      "Epoch 44/100\n",
      "27/27 [==============================] - 4s 165ms/step - loss: 0.4295 - accuracy: 0.7560 - val_loss: 0.5978 - val_accuracy: 0.6861\n",
      "Epoch 45/100\n",
      "27/27 [==============================] - 4s 163ms/step - loss: 0.4518 - accuracy: 0.7762 - val_loss: 0.5813 - val_accuracy: 0.6944\n",
      "Epoch 46/100\n",
      "27/27 [==============================] - 4s 164ms/step - loss: 0.4031 - accuracy: 0.7798 - val_loss: 0.5673 - val_accuracy: 0.6917\n",
      "Epoch 47/100\n",
      "27/27 [==============================] - 4s 164ms/step - loss: 0.3985 - accuracy: 0.7869 - val_loss: 0.5796 - val_accuracy: 0.6694\n",
      "Epoch 48/100\n",
      "27/27 [==============================] - 4s 166ms/step - loss: 0.4079 - accuracy: 0.7702 - val_loss: 0.5796 - val_accuracy: 0.6750\n",
      "Epoch 49/100\n",
      "27/27 [==============================] - 5s 167ms/step - loss: 0.4193 - accuracy: 0.7631 - val_loss: 0.5775 - val_accuracy: 0.7056\n",
      "Epoch 50/100\n",
      "27/27 [==============================] - 4s 164ms/step - loss: 0.4576 - accuracy: 0.7536 - val_loss: 0.5524 - val_accuracy: 0.7000\n",
      "Epoch 51/100\n",
      "27/27 [==============================] - 4s 164ms/step - loss: 0.4387 - accuracy: 0.7571 - val_loss: 0.5438 - val_accuracy: 0.7083\n",
      "Epoch 52/100\n",
      "27/27 [==============================] - 4s 165ms/step - loss: 0.4176 - accuracy: 0.7702 - val_loss: 0.5696 - val_accuracy: 0.6833\n",
      "Epoch 53/100\n",
      "27/27 [==============================] - 4s 165ms/step - loss: 0.4018 - accuracy: 0.7702 - val_loss: 0.5463 - val_accuracy: 0.7167\n",
      "Epoch 54/100\n",
      "27/27 [==============================] - 4s 165ms/step - loss: 0.4249 - accuracy: 0.7524 - val_loss: 0.5665 - val_accuracy: 0.7139\n",
      "Epoch 55/100\n",
      "27/27 [==============================] - 4s 165ms/step - loss: 0.4083 - accuracy: 0.7738 - val_loss: 0.5735 - val_accuracy: 0.7056\n",
      "Epoch 56/100\n",
      "27/27 [==============================] - 4s 165ms/step - loss: 0.4221 - accuracy: 0.7643 - val_loss: 0.5843 - val_accuracy: 0.7000\n",
      "Epoch 57/100\n",
      "27/27 [==============================] - 4s 164ms/step - loss: 0.4295 - accuracy: 0.7833 - val_loss: 0.5863 - val_accuracy: 0.6944\n",
      "Epoch 58/100\n",
      "27/27 [==============================] - 4s 164ms/step - loss: 0.4044 - accuracy: 0.7786 - val_loss: 0.5636 - val_accuracy: 0.6972\n",
      "Epoch 59/100\n",
      "27/27 [==============================] - 4s 164ms/step - loss: 0.3970 - accuracy: 0.7905 - val_loss: 0.5587 - val_accuracy: 0.6889\n",
      "Epoch 60/100\n",
      "27/27 [==============================] - 4s 164ms/step - loss: 0.4127 - accuracy: 0.7821 - val_loss: 0.6332 - val_accuracy: 0.6972\n",
      "Epoch 61/100\n",
      "27/27 [==============================] - 4s 164ms/step - loss: 0.3906 - accuracy: 0.7833 - val_loss: 0.5654 - val_accuracy: 0.6861\n",
      "Epoch 62/100\n",
      "27/27 [==============================] - 5s 168ms/step - loss: 0.3994 - accuracy: 0.7821 - val_loss: 0.5573 - val_accuracy: 0.7111\n",
      "Epoch 63/100\n",
      "27/27 [==============================] - 4s 163ms/step - loss: 0.4057 - accuracy: 0.7702 - val_loss: 0.5560 - val_accuracy: 0.7028\n",
      "Epoch 64/100\n",
      "27/27 [==============================] - 4s 164ms/step - loss: 0.3846 - accuracy: 0.8012 - val_loss: 0.5483 - val_accuracy: 0.6944\n",
      "Epoch 65/100\n",
      "27/27 [==============================] - 4s 165ms/step - loss: 0.3847 - accuracy: 0.7833 - val_loss: 0.6034 - val_accuracy: 0.6778\n",
      "Epoch 66/100\n",
      "27/27 [==============================] - 5s 167ms/step - loss: 0.3949 - accuracy: 0.7857 - val_loss: 0.5772 - val_accuracy: 0.7056\n",
      "Epoch 67/100\n",
      "27/27 [==============================] - 4s 164ms/step - loss: 0.4321 - accuracy: 0.7750 - val_loss: 0.5924 - val_accuracy: 0.6861\n",
      "Epoch 68/100\n",
      "27/27 [==============================] - 4s 164ms/step - loss: 0.3940 - accuracy: 0.7774 - val_loss: 0.5445 - val_accuracy: 0.7167\n",
      "Epoch 69/100\n",
      "27/27 [==============================] - 4s 164ms/step - loss: 0.4199 - accuracy: 0.7869 - val_loss: 0.5373 - val_accuracy: 0.7083\n",
      "Epoch 70/100\n",
      "27/27 [==============================] - 4s 165ms/step - loss: 0.3835 - accuracy: 0.7786 - val_loss: 0.5485 - val_accuracy: 0.7111\n",
      "Epoch 71/100\n",
      "27/27 [==============================] - 4s 164ms/step - loss: 0.3992 - accuracy: 0.7929 - val_loss: 0.5799 - val_accuracy: 0.6972\n",
      "Epoch 72/100\n",
      "27/27 [==============================] - 4s 164ms/step - loss: 0.4018 - accuracy: 0.7821 - val_loss: 0.6054 - val_accuracy: 0.7056\n",
      "Epoch 73/100\n",
      "27/27 [==============================] - 4s 163ms/step - loss: 0.4201 - accuracy: 0.7750 - val_loss: 0.5797 - val_accuracy: 0.7028\n",
      "Epoch 74/100\n",
      "27/27 [==============================] - 5s 188ms/step - loss: 0.4006 - accuracy: 0.7929 - val_loss: 0.5686 - val_accuracy: 0.7167\n",
      "Epoch 75/100\n",
      "27/27 [==============================] - 5s 168ms/step - loss: 0.4288 - accuracy: 0.7905 - val_loss: 0.5690 - val_accuracy: 0.6972\n",
      "Epoch 76/100\n",
      "27/27 [==============================] - 4s 164ms/step - loss: 0.3947 - accuracy: 0.7988 - val_loss: 0.5590 - val_accuracy: 0.6861\n",
      "Epoch 77/100\n",
      "27/27 [==============================] - 4s 164ms/step - loss: 0.3698 - accuracy: 0.8143 - val_loss: 0.6026 - val_accuracy: 0.7083\n",
      "Epoch 78/100\n",
      "27/27 [==============================] - 4s 164ms/step - loss: 0.4066 - accuracy: 0.7988 - val_loss: 0.5582 - val_accuracy: 0.7056\n",
      "Epoch 79/100\n",
      "27/27 [==============================] - 4s 163ms/step - loss: 0.3654 - accuracy: 0.8095 - val_loss: 0.6932 - val_accuracy: 0.7250\n",
      "Epoch 80/100\n",
      "27/27 [==============================] - 4s 163ms/step - loss: 0.4129 - accuracy: 0.7881 - val_loss: 0.5695 - val_accuracy: 0.6694\n",
      "Epoch 81/100\n",
      "27/27 [==============================] - 4s 164ms/step - loss: 0.3706 - accuracy: 0.8107 - val_loss: 0.5779 - val_accuracy: 0.7194\n",
      "Epoch 82/100\n",
      "27/27 [==============================] - 4s 164ms/step - loss: 0.3790 - accuracy: 0.8036 - val_loss: 0.5654 - val_accuracy: 0.7306\n",
      "Epoch 83/100\n",
      "27/27 [==============================] - 4s 163ms/step - loss: 0.3812 - accuracy: 0.7988 - val_loss: 0.6218 - val_accuracy: 0.7139\n",
      "Epoch 84/100\n",
      "27/27 [==============================] - 4s 164ms/step - loss: 0.3570 - accuracy: 0.8167 - val_loss: 0.5773 - val_accuracy: 0.7306\n",
      "Epoch 85/100\n",
      "27/27 [==============================] - 4s 164ms/step - loss: 0.3655 - accuracy: 0.8131 - val_loss: 0.5402 - val_accuracy: 0.7250\n",
      "Epoch 86/100\n",
      "27/27 [==============================] - 4s 163ms/step - loss: 0.3772 - accuracy: 0.8060 - val_loss: 0.5825 - val_accuracy: 0.7333\n",
      "Epoch 87/100\n",
      "27/27 [==============================] - 4s 164ms/step - loss: 0.3659 - accuracy: 0.8000 - val_loss: 0.6629 - val_accuracy: 0.7417\n",
      "Epoch 88/100\n",
      "27/27 [==============================] - 4s 165ms/step - loss: 0.3518 - accuracy: 0.8262 - val_loss: 0.5530 - val_accuracy: 0.7389\n",
      "Epoch 89/100\n",
      "27/27 [==============================] - 4s 164ms/step - loss: 0.3706 - accuracy: 0.8107 - val_loss: 0.7041 - val_accuracy: 0.7167\n",
      "Epoch 90/100\n",
      "27/27 [==============================] - 4s 164ms/step - loss: 0.3565 - accuracy: 0.8060 - val_loss: 0.5697 - val_accuracy: 0.7306\n",
      "Epoch 91/100\n",
      "27/27 [==============================] - 4s 164ms/step - loss: 0.3443 - accuracy: 0.8250 - val_loss: 0.5646 - val_accuracy: 0.7083\n",
      "Epoch 92/100\n",
      "27/27 [==============================] - 4s 163ms/step - loss: 0.3461 - accuracy: 0.8381 - val_loss: 0.5593 - val_accuracy: 0.7306\n",
      "Epoch 93/100\n",
      "27/27 [==============================] - 4s 164ms/step - loss: 0.3552 - accuracy: 0.8226 - val_loss: 0.5571 - val_accuracy: 0.7306\n",
      "Epoch 94/100\n",
      "27/27 [==============================] - 4s 163ms/step - loss: 0.3382 - accuracy: 0.8333 - val_loss: 0.6344 - val_accuracy: 0.7417\n",
      "Epoch 95/100\n",
      "27/27 [==============================] - 4s 162ms/step - loss: 0.3991 - accuracy: 0.8131 - val_loss: 0.5650 - val_accuracy: 0.7361\n",
      "Epoch 96/100\n",
      "27/27 [==============================] - 4s 164ms/step - loss: 0.3262 - accuracy: 0.8476 - val_loss: 0.5809 - val_accuracy: 0.7167\n",
      "Epoch 97/100\n",
      "27/27 [==============================] - 4s 164ms/step - loss: 0.3558 - accuracy: 0.8274 - val_loss: 0.5788 - val_accuracy: 0.7028\n",
      "Epoch 98/100\n",
      "27/27 [==============================] - 5s 174ms/step - loss: 0.3107 - accuracy: 0.8381 - val_loss: 0.6338 - val_accuracy: 0.7306\n",
      "Epoch 99/100\n",
      "27/27 [==============================] - 4s 163ms/step - loss: 0.3506 - accuracy: 0.8238 - val_loss: 0.5917 - val_accuracy: 0.7472\n",
      "Epoch 100/100\n",
      "27/27 [==============================] - 4s 164ms/step - loss: 0.3404 - accuracy: 0.8369 - val_loss: 0.6644 - val_accuracy: 0.7306\n"
     ]
    }
   ],
   "source": [
    "%time\n",
    "\n",
    "log=model.fit(X_train,y_train,epochs=100,batch_size=32,verbose=True,\n",
    "             callbacks=[keras.callbacks.EarlyStopping(monitor='val_loss',\n",
    "                                                     min_delta=0, patience=50,\n",
    "                                                     verbose=1)],\n",
    "             validation_data=(X_valid, y_valid))"
   ]
  },
  {
   "cell_type": "code",
   "execution_count": 15,
   "id": "f43c0bfe",
   "metadata": {},
   "outputs": [
    {
     "data": {
      "image/png": "[encoded data removed]",
      "text/plain": [
       "<Figure size 432x288 with 1 Axes>"
      ]
     },
     "metadata": {
      "needs_background": "light"
     },
     "output_type": "display_data"
    }
   ],
   "source": [
    "plt.plot(log.history['loss'], label='loss')\n",
    "plt.plot(log.history['val_loss'], label='val_loss')\n",
    "plt.legend(frameon=False)\n",
    "plt.xlabel(\"epochs\")\n",
    "plt.ylabel(\"crossentropy\")\n",
    "plt.show()"
   ]
  },
  {
   "cell_type": "code",
   "execution_count": 16,
   "id": "266eba33",
   "metadata": {},
   "outputs": [],
   "source": [
    "y_pred=model.predict(X_test)\n",
    "\n",
    "y_pred_cls=(y_pred>0.5).astype(\"int32\")"
   ]
  },
  {
   "cell_type": "code",
   "execution_count": 17,
   "id": "62c8b473",
   "metadata": {
    "scrolled": true
   },
   "outputs": [
    {
     "data": {
      "text/plain": [
       "array([[2.48796761e-01],\n",
       "       [4.46428210e-01],\n",
       "       [3.49417746e-01],\n",
       "       [3.47711354e-01],\n",
       "       [4.04985845e-01],\n",
       "       [4.08365905e-01],\n",
       "       [4.03982133e-01],\n",
       "       [2.84603834e-02],\n",
       "       [3.79867285e-01],\n",
       "       [1.19025111e-02],\n",
       "       [4.03982133e-01],\n",
       "       [3.96670133e-01],\n",
       "       [5.04943311e-01],\n",
       "       [1.88779086e-01],\n",
       "       [1.91520154e-01],\n",
       "       [9.24874246e-02],\n",
       "       [3.43478352e-01],\n",
       "       [3.98220718e-01],\n",
       "       [6.74340546e-01],\n",
       "       [4.71490353e-01],\n",
       "       [1.87363029e-01],\n",
       "       [3.22709590e-01],\n",
       "       [3.98003280e-01],\n",
       "       [3.88325095e-01],\n",
       "       [4.03982133e-01],\n",
       "       [4.03982133e-01],\n",
       "       [4.03982133e-01],\n",
       "       [3.98817867e-01],\n",
       "       [1.12146854e-01],\n",
       "       [3.82592976e-01],\n",
       "       [4.85763103e-01],\n",
       "       [4.03982133e-01],\n",
       "       [3.99566144e-01],\n",
       "       [3.53607148e-01],\n",
       "       [3.69962305e-01],\n",
       "       [6.28523171e-01],\n",
       "       [4.88583446e-02],\n",
       "       [2.74963468e-01],\n",
       "       [4.03982133e-01],\n",
       "       [4.03982133e-01],\n",
       "       [4.32915449e-01],\n",
       "       [1.39049292e-02],\n",
       "       [3.31588894e-01],\n",
       "       [5.07594228e-01],\n",
       "       [3.46113980e-01],\n",
       "       [4.07857358e-01],\n",
       "       [6.00013373e-05],\n",
       "       [8.45968723e-03],\n",
       "       [4.03982133e-01],\n",
       "       [3.84100318e-01],\n",
       "       [1.00000000e+00],\n",
       "       [1.00000000e+00],\n",
       "       [1.00000000e+00],\n",
       "       [1.00000000e+00],\n",
       "       [1.00000000e+00],\n",
       "       [6.08661771e-01],\n",
       "       [1.00000000e+00],\n",
       "       [1.00000000e+00],\n",
       "       [1.00000000e+00],\n",
       "       [1.00000000e+00],\n",
       "       [1.00000000e+00],\n",
       "       [1.00000000e+00],\n",
       "       [1.00000000e+00],\n",
       "       [2.97420740e-01],\n",
       "       [1.00000000e+00],\n",
       "       [1.00000000e+00],\n",
       "       [1.00000000e+00],\n",
       "       [1.00000000e+00],\n",
       "       [1.00000000e+00],\n",
       "       [1.00000000e+00],\n",
       "       [1.00000000e+00],\n",
       "       [1.00000000e+00],\n",
       "       [1.00000000e+00],\n",
       "       [1.00000000e+00],\n",
       "       [1.00000000e+00],\n",
       "       [1.00000000e+00],\n",
       "       [3.31943870e-01],\n",
       "       [1.00000000e+00],\n",
       "       [1.00000000e+00],\n",
       "       [1.58755273e-01],\n",
       "       [1.00000000e+00],\n",
       "       [1.00000000e+00],\n",
       "       [6.48652375e-01],\n",
       "       [1.00000000e+00],\n",
       "       [1.00000000e+00],\n",
       "       [1.00000000e+00],\n",
       "       [1.00000000e+00],\n",
       "       [1.00000000e+00],\n",
       "       [1.00000000e+00],\n",
       "       [1.00000000e+00],\n",
       "       [1.00000000e+00],\n",
       "       [1.00000000e+00],\n",
       "       [1.00000000e+00],\n",
       "       [1.00000000e+00],\n",
       "       [1.00000000e+00],\n",
       "       [1.00000000e+00],\n",
       "       [1.00000000e+00],\n",
       "       [9.99999642e-01],\n",
       "       [1.00000000e+00],\n",
       "       [9.99998808e-01]], dtype=float32)"
      ]
     },
     "execution_count": 17,
     "metadata": {},
     "output_type": "execute_result"
    }
   ],
   "source": [
    "y_pred"
   ]
  },
  {
   "cell_type": "code",
   "execution_count": 18,
   "id": "68893d67",
   "metadata": {
    "scrolled": true
   },
   "outputs": [
    {
     "data": {
      "text/plain": [
       "array([[0],\n",
       "       [0],\n",
       "       [0],\n",
       "       [0],\n",
       "       [0],\n",
       "       [0],\n",
       "       [0],\n",
       "       [0],\n",
       "       [0],\n",
       "       [0],\n",
       "       [0],\n",
       "       [0],\n",
       "       [1],\n",
       "       [0],\n",
       "       [0],\n",
       "       [0],\n",
       "       [0],\n",
       "       [0],\n",
       "       [1],\n",
       "       [0],\n",
       "       [0],\n",
       "       [0],\n",
       "       [0],\n",
       "       [0],\n",
       "       [0],\n",
       "       [0],\n",
       "       [0],\n",
       "       [0],\n",
       "       [0],\n",
       "       [0],\n",
       "       [0],\n",
       "       [0],\n",
       "       [0],\n",
       "       [0],\n",
       "       [0],\n",
       "       [1],\n",
       "       [0],\n",
       "       [0],\n",
       "       [0],\n",
       "       [0],\n",
       "       [0],\n",
       "       [0],\n",
       "       [0],\n",
       "       [1],\n",
       "       [0],\n",
       "       [0],\n",
       "       [0],\n",
       "       [0],\n",
       "       [0],\n",
       "       [0],\n",
       "       [1],\n",
       "       [1],\n",
       "       [1],\n",
       "       [1],\n",
       "       [1],\n",
       "       [1],\n",
       "       [1],\n",
       "       [1],\n",
       "       [1],\n",
       "       [1],\n",
       "       [1],\n",
       "       [1],\n",
       "       [1],\n",
       "       [0],\n",
       "       [1],\n",
       "       [1],\n",
       "       [1],\n",
       "       [1],\n",
       "       [1],\n",
       "       [1],\n",
       "       [1],\n",
       "       [1],\n",
       "       [1],\n",
       "       [1],\n",
       "       [1],\n",
       "       [1],\n",
       "       [0],\n",
       "       [1],\n",
       "       [1],\n",
       "       [0],\n",
       "       [1],\n",
       "       [1],\n",
       "       [1],\n",
       "       [1],\n",
       "       [1],\n",
       "       [1],\n",
       "       [1],\n",
       "       [1],\n",
       "       [1],\n",
       "       [1],\n",
       "       [1],\n",
       "       [1],\n",
       "       [1],\n",
       "       [1],\n",
       "       [1],\n",
       "       [1],\n",
       "       [1],\n",
       "       [1],\n",
       "       [1],\n",
       "       [1]], dtype=int32)"
      ]
     },
     "execution_count": 18,
     "metadata": {},
     "output_type": "execute_result"
    }
   ],
   "source": [
    "y_pred_cls"
   ]
  },
  {
   "cell_type": "code",
   "execution_count": 19,
   "id": "51c3b550",
   "metadata": {},
   "outputs": [],
   "source": [
    "y_pred_=y_pred_cls.reshape(-1)"
   ]
  },
  {
   "cell_type": "code",
   "execution_count": 20,
   "id": "758b66c3",
   "metadata": {},
   "outputs": [
    {
     "name": "stdout",
     "output_type": "stream",
     "text": [
      "              precision    recall  f1-score   support\n",
      "\n",
      "           0       0.94      0.92      0.93        50\n",
      "           1       0.92      0.94      0.93        50\n",
      "\n",
      "    accuracy                           0.93       100\n",
      "   macro avg       0.93      0.93      0.93       100\n",
      "weighted avg       0.93      0.93      0.93       100\n",
      "\n"
     ]
    }
   ],
   "source": [
    "from sklearn.metrics import classification_report\n",
    "\n",
    "print(classification_report(y_test,y_pred_))"
   ]
  },
  {
   "cell_type": "code",
   "execution_count": null,
   "id": "c2e106b3",
   "metadata": {},
   "outputs": [],
   "source": []
  }
 ],
 "metadata": {
  "kernelspec": {
   "display_name": "Python 3",
   "language": "python",
   "name": "python3"
  },
  "language_info": {
   "codemirror_mode": {
    "name": "ipython",
    "version": 3
   },
   "file_extension": ".py",
   "mimetype": "text/x-python",
   "name": "python",
   "nbconvert_exporter": "python",
   "pygments_lexer": "ipython3",
   "version": "3.8.3"
  }
 },
 "nbformat": 4,
 "nbformat_minor": 5
}
